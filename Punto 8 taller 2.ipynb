{
 "cells": [
  {
   "attachments": {},
   "cell_type": "markdown",
   "metadata": {},
   "source": []
  },
  {
   "attachments": {},
   "cell_type": "markdown",
   "metadata": {},
   "source": [
    "8 . Desarrollar un programa que dadas dos listas determine que elementos tiene la primer lista que no tenga la segunda lista. Ejemplo:\n"
   ]
  },
  {
   "cell_type": "code",
   "execution_count": 6,
   "metadata": {},
   "outputs": [
    {
     "name": "stdout",
     "output_type": "stream",
     "text": [
      " la lista 1 es ['ana', 'mama', 'j']  la lista dos es ['an', 'j', 'mama', 'juan', 'j']\n",
      "Elementos en la primera lista que no están en la segunda lista:\n",
      "['ana']\n"
     ]
    }
   ],
   "source": [
    "lista1 = []  # se crea una lista 1 vacia a la cual se le agregaran los valores\n",
    "lista2 = []  # se crea una lista 2  vacia a la cual se le agregaran los valores\n",
    "Diferencia = []   # se crea una lista  vacia llamada diferencia a la cual se le agregaran los valores que no esten en la segunda lista\n",
    "\n",
    "# se crea una función que recibe dos listas como parámetros y devuelve una lista con los elementos de la primera lista que no están en la segunda lista\n",
    "def hallar_elemento(lista1, lista2):\n",
    "    for i in lista1:  # Se recorre cada elemento de la lista 1\n",
    "        if i not in lista2:  # Si el elemento no está en la lista 2, se agrega a la lista de diferencia\n",
    "            Diferencia.append(i)\n",
    "    return Diferencia  # Se devuelve la lista de diferencia\n",
    "\n",
    "if __name__ == \"__main__\":\n",
    "    n = int(input(\"tamaño de la lista: \"))  # Se solicita el tamaño de la lista 1 al usuario\n",
    "    for i in range(n):  # Se itera n veces para que el usuario ingrese n elementos a la lista 1\n",
    "        valor = input(\" ingrese elementos a la lista: \")\n",
    "        lista1.append(valor)  # Se agrega el valor ingresado a la lista 1\n",
    "    \n",
    "    m = int(input(\"tamaño de la lista: \"))  # Se solicita el tamaño de la lista 2 al usuario\n",
    "    for i in range(m):  # Se itera m veces para que el usuario ingrese m elementos a la lista 2\n",
    "        valor = input(\" ingrese elementos a la lista : \")\n",
    "        lista2.append(valor)  # Se agrega el valor ingresado a la lista 2\n",
    "    \n",
    "    diferencia = hallar_elemento(lista1, lista2)  # Se llama a la función hallar_elemento() para obtener la lista de diferencia\n",
    "    print(\" la lista 1 es \" + str(lista1), \" la lista dos es \" + str(lista2))  # Se imprime la lista 1 y la lista 2\n",
    "    print(\"Elementos en la primera lista que no están en la segunda lista son :\")\n",
    "    print(diferencia)  # Se imprime la lista de diferencia\n",
    "\n",
    " \n"
   ]
  }
 ],
 "metadata": {
  "kernelspec": {
   "display_name": "Python 3",
   "language": "python",
   "name": "python3"
  },
  "language_info": {
   "codemirror_mode": {
    "name": "ipython",
    "version": 3
   },
   "file_extension": ".py",
   "mimetype": "text/x-python",
   "name": "python",
   "nbconvert_exporter": "python",
   "pygments_lexer": "ipython3",
   "version": "3.11.2"
  },
  "orig_nbformat": 4
 },
 "nbformat": 4,
 "nbformat_minor": 2
}
